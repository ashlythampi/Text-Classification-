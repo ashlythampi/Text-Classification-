{
  "nbformat": 4,
  "nbformat_minor": 0,
  "metadata": {
    "colab": {
      "provenance": []
    },
    "kernelspec": {
      "name": "python3",
      "display_name": "Python 3"
    },
    "language_info": {
      "name": "python"
    }
  },
  "cells": [
    {
      "cell_type": "code",
      "execution_count": 1,
      "metadata": {
        "id": "CSDq4A64D50c"
      },
      "outputs": [],
      "source": [
        "## Import python library\n",
        "import pandas as pd\n",
        "import nltk\n",
        "\n",
        "## Read file\n",
        "file_name = '/content/Redmi Note 11.csv'\n",
        "## Read file using pandas\n",
        "df = pd.read_csv(file_name)"
      ]
    },
    {
      "cell_type": "code",
      "source": [
        "# imports\n",
        "import re\n",
        "# function to remove special characters\n",
        "def remove_special_characters(text):\n",
        "    # define the pattern to keep\n",
        "    pat = r'[^a-zA-z0-9.,!?/:;\\\"\\'\\s]' \n",
        "    return re.sub(pat, '', text)"
      ],
      "metadata": {
        "id": "5GUdbSYtEPHc"
      },
      "execution_count": 2,
      "outputs": []
    },
    {
      "cell_type": "code",
      "source": [
        "import re\n",
        "l = []\n",
        "asd_train = []\n",
        "pat = r'[^a-zA-z0-9.,!?/:;\\\"\\'\\s]'\n",
        "for i in range(df.shape[0]):\n",
        "    \n",
        "    g = str(df.iloc[i]['body'])\n",
        "    g = g.replace('[^\\w\\s]','')\n",
        "    g = remove_special_characters(g)\n",
        "    g = g.replace(\"/\",\" \")\n",
        "    g = g.replace(\".\",\" \").replace(\",\",\" \").replace(\"\\'\",\"\").replace(\"\\\"\",\"\").replace(\":\",\" \")\n",
        "    g = \" \".join(g.split())\n",
        "    k = \"\"\n",
        "    for j in g:\n",
        "        if(j == \" \"):\n",
        "            k = k + j\n",
        "        elif(ord(j)>=ord('A') and ord(j)<=ord('Z')):\n",
        "            k = k + j\n",
        "        elif(ord(j)>=ord('a') and ord(j)<=ord('z')):\n",
        "            k = k + j\n",
        "                \n",
        "    g1 = df.iloc[i]['rating']\n",
        "    if(g1>3):\n",
        "        asd_train.append(1)\n",
        "    else:\n",
        "        asd_train.append(0)\n",
        "    l.append(k)"
      ],
      "metadata": {
        "id": "HInh6I5-ESIw"
      },
      "execution_count": 3,
      "outputs": []
    },
    {
      "cell_type": "code",
      "source": [
        "df['body1'] = l"
      ],
      "metadata": {
        "id": "t5AfY0ttEUq6"
      },
      "execution_count": 4,
      "outputs": []
    },
    {
      "cell_type": "code",
      "source": [
        "df['rating'] = asd_train"
      ],
      "metadata": {
        "id": "VLqrt3OLEW7a"
      },
      "execution_count": 5,
      "outputs": []
    },
    {
      "cell_type": "code",
      "source": [
        "df.head()"
      ],
      "metadata": {
        "colab": {
          "base_uri": "https://localhost:8080/",
          "height": 337
        },
        "id": "ONP2BuxsEYhm",
        "outputId": "c4061cb5-042e-4709-8d71-ecce74298170"
      },
      "execution_count": 6,
      "outputs": [
        {
          "output_type": "execute_result",
          "data": {
            "text/plain": [
              "                                             product                 title  \\\n",
              "0  Redmi Note 11 (Horizon Blue, 6GB RAM, 128GB St...  Not worth buying it.   \n",
              "1  Redmi Note 11 (Horizon Blue, 6GB RAM, 128GB St...       Budget Friendly   \n",
              "2  Redmi Note 11 (Horizon Blue, 6GB RAM, 128GB St...    Good but not great   \n",
              "3  Redmi Note 11 (Horizon Blue, 6GB RAM, 128GB St...         Redmi Note 11   \n",
              "4  Redmi Note 11 (Horizon Blue, 6GB RAM, 128GB St...       Value for money   \n",
              "\n",
              "   rating                                               body  \\\n",
              "0       0  I had redmi 6 Pro and exchanged it for Redmi 1...   \n",
              "1       1  For 12500/- price it's a good picScreen Amoled...   \n",
              "2       1  Pros- Amoled Screen, Battery easily lasts a da...   \n",
              "3       1  Redmi Note 11 is great piece, but automatic ca...   \n",
              "4       1  The media could not be loaded.\\n              ...   \n",
              "\n",
              "                                               body1  \n",
              "0  I had redmi  Pro and exchanged it for Redmi  B...  \n",
              "1  For  price its a good picScreen Amoled  Sounds...  \n",
              "2  Pros Amoled Screen Battery easily lasts a day ...  \n",
              "3  Redmi Note  is great piece but automatic call ...  \n",
              "4  The media could not be loaded A good fone in t...  "
            ],
            "text/html": [
              "\n",
              "  <div id=\"df-52103dca-8c2c-4e0c-8ee4-b06878404607\">\n",
              "    <div class=\"colab-df-container\">\n",
              "      <div>\n",
              "<style scoped>\n",
              "    .dataframe tbody tr th:only-of-type {\n",
              "        vertical-align: middle;\n",
              "    }\n",
              "\n",
              "    .dataframe tbody tr th {\n",
              "        vertical-align: top;\n",
              "    }\n",
              "\n",
              "    .dataframe thead th {\n",
              "        text-align: right;\n",
              "    }\n",
              "</style>\n",
              "<table border=\"1\" class=\"dataframe\">\n",
              "  <thead>\n",
              "    <tr style=\"text-align: right;\">\n",
              "      <th></th>\n",
              "      <th>product</th>\n",
              "      <th>title</th>\n",
              "      <th>rating</th>\n",
              "      <th>body</th>\n",
              "      <th>body1</th>\n",
              "    </tr>\n",
              "  </thead>\n",
              "  <tbody>\n",
              "    <tr>\n",
              "      <th>0</th>\n",
              "      <td>Redmi Note 11 (Horizon Blue, 6GB RAM, 128GB St...</td>\n",
              "      <td>Not worth buying it.</td>\n",
              "      <td>0</td>\n",
              "      <td>I had redmi 6 Pro and exchanged it for Redmi 1...</td>\n",
              "      <td>I had redmi  Pro and exchanged it for Redmi  B...</td>\n",
              "    </tr>\n",
              "    <tr>\n",
              "      <th>1</th>\n",
              "      <td>Redmi Note 11 (Horizon Blue, 6GB RAM, 128GB St...</td>\n",
              "      <td>Budget Friendly</td>\n",
              "      <td>1</td>\n",
              "      <td>For 12500/- price it's a good picScreen Amoled...</td>\n",
              "      <td>For  price its a good picScreen Amoled  Sounds...</td>\n",
              "    </tr>\n",
              "    <tr>\n",
              "      <th>2</th>\n",
              "      <td>Redmi Note 11 (Horizon Blue, 6GB RAM, 128GB St...</td>\n",
              "      <td>Good but not great</td>\n",
              "      <td>1</td>\n",
              "      <td>Pros- Amoled Screen, Battery easily lasts a da...</td>\n",
              "      <td>Pros Amoled Screen Battery easily lasts a day ...</td>\n",
              "    </tr>\n",
              "    <tr>\n",
              "      <th>3</th>\n",
              "      <td>Redmi Note 11 (Horizon Blue, 6GB RAM, 128GB St...</td>\n",
              "      <td>Redmi Note 11</td>\n",
              "      <td>1</td>\n",
              "      <td>Redmi Note 11 is great piece, but automatic ca...</td>\n",
              "      <td>Redmi Note  is great piece but automatic call ...</td>\n",
              "    </tr>\n",
              "    <tr>\n",
              "      <th>4</th>\n",
              "      <td>Redmi Note 11 (Horizon Blue, 6GB RAM, 128GB St...</td>\n",
              "      <td>Value for money</td>\n",
              "      <td>1</td>\n",
              "      <td>The media could not be loaded.\\n              ...</td>\n",
              "      <td>The media could not be loaded A good fone in t...</td>\n",
              "    </tr>\n",
              "  </tbody>\n",
              "</table>\n",
              "</div>\n",
              "      <button class=\"colab-df-convert\" onclick=\"convertToInteractive('df-52103dca-8c2c-4e0c-8ee4-b06878404607')\"\n",
              "              title=\"Convert this dataframe to an interactive table.\"\n",
              "              style=\"display:none;\">\n",
              "        \n",
              "  <svg xmlns=\"http://www.w3.org/2000/svg\" height=\"24px\"viewBox=\"0 0 24 24\"\n",
              "       width=\"24px\">\n",
              "    <path d=\"M0 0h24v24H0V0z\" fill=\"none\"/>\n",
              "    <path d=\"M18.56 5.44l.94 2.06.94-2.06 2.06-.94-2.06-.94-.94-2.06-.94 2.06-2.06.94zm-11 1L8.5 8.5l.94-2.06 2.06-.94-2.06-.94L8.5 2.5l-.94 2.06-2.06.94zm10 10l.94 2.06.94-2.06 2.06-.94-2.06-.94-.94-2.06-.94 2.06-2.06.94z\"/><path d=\"M17.41 7.96l-1.37-1.37c-.4-.4-.92-.59-1.43-.59-.52 0-1.04.2-1.43.59L10.3 9.45l-7.72 7.72c-.78.78-.78 2.05 0 2.83L4 21.41c.39.39.9.59 1.41.59.51 0 1.02-.2 1.41-.59l7.78-7.78 2.81-2.81c.8-.78.8-2.07 0-2.86zM5.41 20L4 18.59l7.72-7.72 1.47 1.35L5.41 20z\"/>\n",
              "  </svg>\n",
              "      </button>\n",
              "      \n",
              "  <style>\n",
              "    .colab-df-container {\n",
              "      display:flex;\n",
              "      flex-wrap:wrap;\n",
              "      gap: 12px;\n",
              "    }\n",
              "\n",
              "    .colab-df-convert {\n",
              "      background-color: #E8F0FE;\n",
              "      border: none;\n",
              "      border-radius: 50%;\n",
              "      cursor: pointer;\n",
              "      display: none;\n",
              "      fill: #1967D2;\n",
              "      height: 32px;\n",
              "      padding: 0 0 0 0;\n",
              "      width: 32px;\n",
              "    }\n",
              "\n",
              "    .colab-df-convert:hover {\n",
              "      background-color: #E2EBFA;\n",
              "      box-shadow: 0px 1px 2px rgba(60, 64, 67, 0.3), 0px 1px 3px 1px rgba(60, 64, 67, 0.15);\n",
              "      fill: #174EA6;\n",
              "    }\n",
              "\n",
              "    [theme=dark] .colab-df-convert {\n",
              "      background-color: #3B4455;\n",
              "      fill: #D2E3FC;\n",
              "    }\n",
              "\n",
              "    [theme=dark] .colab-df-convert:hover {\n",
              "      background-color: #434B5C;\n",
              "      box-shadow: 0px 1px 3px 1px rgba(0, 0, 0, 0.15);\n",
              "      filter: drop-shadow(0px 1px 2px rgba(0, 0, 0, 0.3));\n",
              "      fill: #FFFFFF;\n",
              "    }\n",
              "  </style>\n",
              "\n",
              "      <script>\n",
              "        const buttonEl =\n",
              "          document.querySelector('#df-52103dca-8c2c-4e0c-8ee4-b06878404607 button.colab-df-convert');\n",
              "        buttonEl.style.display =\n",
              "          google.colab.kernel.accessAllowed ? 'block' : 'none';\n",
              "\n",
              "        async function convertToInteractive(key) {\n",
              "          const element = document.querySelector('#df-52103dca-8c2c-4e0c-8ee4-b06878404607');\n",
              "          const dataTable =\n",
              "            await google.colab.kernel.invokeFunction('convertToInteractive',\n",
              "                                                     [key], {});\n",
              "          if (!dataTable) return;\n",
              "\n",
              "          const docLinkHtml = 'Like what you see? Visit the ' +\n",
              "            '<a target=\"_blank\" href=https://colab.research.google.com/notebooks/data_table.ipynb>data table notebook</a>'\n",
              "            + ' to learn more about interactive tables.';\n",
              "          element.innerHTML = '';\n",
              "          dataTable['output_type'] = 'display_data';\n",
              "          await google.colab.output.renderOutput(dataTable, element);\n",
              "          const docLink = document.createElement('div');\n",
              "          docLink.innerHTML = docLinkHtml;\n",
              "          element.appendChild(docLink);\n",
              "        }\n",
              "      </script>\n",
              "    </div>\n",
              "  </div>\n",
              "  "
            ]
          },
          "metadata": {},
          "execution_count": 6
        }
      ]
    },
    {
      "cell_type": "code",
      "source": [
        "df.rating.value_counts()"
      ],
      "metadata": {
        "colab": {
          "base_uri": "https://localhost:8080/"
        },
        "id": "HMpcTQ1lEae6",
        "outputId": "ad893a90-5e11-43cc-e0b3-45fb8793a281"
      },
      "execution_count": 7,
      "outputs": [
        {
          "output_type": "execute_result",
          "data": {
            "text/plain": [
              "1    845\n",
              "0    590\n",
              "Name: rating, dtype: int64"
            ]
          },
          "metadata": {},
          "execution_count": 7
        }
      ]
    },
    {
      "cell_type": "code",
      "source": [
        "import nltk\n",
        "nltk.download('stopwords')\n",
        "  "
      ],
      "metadata": {
        "colab": {
          "base_uri": "https://localhost:8080/"
        },
        "id": "zBgLnV4xEtAJ",
        "outputId": "6b6ad1a0-89d2-4451-ec61-62bb00325854"
      },
      "execution_count": 15,
      "outputs": [
        {
          "output_type": "stream",
          "name": "stderr",
          "text": [
            "[nltk_data] Downloading package stopwords to /root/nltk_data...\n",
            "[nltk_data]   Unzipping corpora/stopwords.zip.\n"
          ]
        },
        {
          "output_type": "execute_result",
          "data": {
            "text/plain": [
              "True"
            ]
          },
          "metadata": {},
          "execution_count": 15
        }
      ]
    },
    {
      "cell_type": "code",
      "source": [
        "stop = nltk.corpus.stopwords.words('english')"
      ],
      "metadata": {
        "id": "wCqMl5yAEcvS"
      },
      "execution_count": 16,
      "outputs": []
    },
    {
      "cell_type": "code",
      "source": [
        "## Tokenizing sentence into token for finding synonym.\n",
        "def make_tokenizer(texts):\n",
        "    from keras.preprocessing.text import Tokenizer\n",
        "    t = Tokenizer()\n",
        "    t.fit_on_texts(texts)\n",
        "    return t\n",
        "\n",
        "tokenizer = make_tokenizer(df['body1'])    ## Message is column name\n",
        "\n",
        "X = tokenizer.texts_to_sequences(df['body1'])\n",
        "\n",
        "from keras_preprocessing.sequence import pad_sequences\n",
        "X = pad_sequences(X, 70)"
      ],
      "metadata": {
        "id": "xjd2qYgeEe0D"
      },
      "execution_count": 20,
      "outputs": []
    },
    {
      "cell_type": "code",
      "source": [
        "## Dictionary of word index\n",
        "index_word = {}\n",
        "for word in tokenizer.word_index.keys():\n",
        "    index_word[tokenizer.word_index[word]] = word"
      ],
      "metadata": {
        "id": "Qi7BOO0-FHNi"
      },
      "execution_count": 21,
      "outputs": []
    },
    {
      "cell_type": "code",
      "source": [
        "## word list\n",
        "words = [value for key, value in index_word.items()]"
      ],
      "metadata": {
        "id": "Wa6RHXtvF-Ct"
      },
      "execution_count": 22,
      "outputs": []
    },
    {
      "cell_type": "code",
      "source": [
        "## Function to find synonym of words \n",
        "import spacy\n",
        "nlp = spacy.load('en_core_web_sm',disable=['parser'])\n",
        "def check_lemma(t,w) :\n",
        "    r = [d for d in t if (nlp(d.text)[0].lemma_ != nlp(w.text)[0].lemma_)]\n",
        "    return r\n",
        "\n",
        "def get_word_synonym(word):\n",
        "    filtered_words = [w for w in word.vocab if (not w.lower_ in stop) and w.is_lower == word.is_lower and w.prob >= -15] ## (not w.lower_ in stop) and\n",
        "    similarity = sorted(filtered_words, key=lambda w: word.similarity(w), reverse=True)\n",
        "    filtered_similarity = check_lemma(similarity[:30], word)\n",
        "    return filtered_similarity[:3]"
      ],
      "metadata": {
        "colab": {
          "base_uri": "https://localhost:8080/"
        },
        "id": "4Ke-kAbIGAbE",
        "outputId": "b6d57201-762f-4801-8cf5-614e67d2bb6a"
      },
      "execution_count": 23,
      "outputs": [
        {
          "output_type": "stream",
          "name": "stderr",
          "text": [
            "/usr/local/lib/python3.7/dist-packages/spacy/language.py:1899: UserWarning: [W123] Argument disable with value ['parser'] is used instead of ['senter'] as specified in the config. Be aware that this might affect other components in your pipeline.\n",
            "  config_value=config[\"nlp\"][key],\n"
          ]
        }
      ]
    },
    {
      "cell_type": "code",
      "source": [
        "## Synonym dictionary\n",
        "synonym_dict = {}\n",
        "\n",
        "for word in words:\n",
        "    synonym_dict.update({word : tuple([w.lower_ for w in get_word_synonym(nlp.vocab[word])])})\n",
        "        #print(word, \" : \", [w.lower_ for w in get_word_synonym(nlp.vocab[word])])"
      ],
      "metadata": {
        "id": "Z01yT_eBGDGT"
      },
      "execution_count": 24,
      "outputs": []
    },
    {
      "cell_type": "code",
      "source": [
        "## Only consider filtered synonym\n",
        "import collections\n",
        "value_occurrences = collections.Counter(synonym_dict.values())\n",
        "\n",
        "filtered_synonym = {key: value for key, value in synonym_dict.items() if value_occurrences[value] == 1}"
      ],
      "metadata": {
        "id": "JwIgI-GBGFVg"
      },
      "execution_count": 25,
      "outputs": []
    },
    {
      "cell_type": "code",
      "source": [
        "## Function for augmenting data by replacing words with synonym using spaCy\n",
        "## This might not be best best method compared to data augmentation using language translation\n",
        "\n",
        "import re\n",
        "import random\n",
        "sr = random.SystemRandom()\n",
        "split_pattern = re.compile(r'\\s+')\n",
        "def data_augmentation(message, aug_range=1) :\n",
        "    augmented_messages = []\n",
        "    for j in range(0,aug_range) :\n",
        "        new_message = \"\"\n",
        "        for i in filter(None, split_pattern.split(message)) :\n",
        "            new_message = new_message + \" \" + sr.choice(filtered_synonym.get(i,[i]))\n",
        "        augmented_messages.append(new_message)\n",
        "    return augmented_messages"
      ],
      "metadata": {
        "id": "MWgAgAjpGHtU"
      },
      "execution_count": 26,
      "outputs": []
    },
    {
      "cell_type": "code",
      "source": [
        "## Dictionary for intent count\n",
        "## Intent is column name\n",
        "intent_count = df.rating.value_counts().to_dict()"
      ],
      "metadata": {
        "id": "g50iAR3nGO_n"
      },
      "execution_count": 27,
      "outputs": []
    },
    {
      "cell_type": "code",
      "source": [
        "## Get max intent count to match other minority classes through data augmentation\n",
        "import operator\n",
        "max_intent_count = max(intent_count.items(), key=operator.itemgetter(1))[1]"
      ],
      "metadata": {
        "id": "uX40ic_PGRId"
      },
      "execution_count": 28,
      "outputs": []
    },
    {
      "cell_type": "code",
      "source": [
        "## Loop to interate all messages\n",
        "import numpy as np\n",
        "import math\n",
        "import tqdm\n",
        "newdf = pd.DataFrame()\n",
        "for intent, count in intent_count.items() :\n",
        "    count_diff = max_intent_count - count    ## Difference to fill\n",
        "    multiplication_count = math.ceil((count_diff)/count)  ## Multiplying a minority classes for multiplication_count times\n",
        "    if (multiplication_count) :\n",
        "        old_message_df = pd.DataFrame()\n",
        "        new_message_df = pd.DataFrame()\n",
        "        for message in tqdm.tqdm(df[df[\"rating\"] == intent][\"body1\"]) :\n",
        "            ## Extracting existing minority class batch\n",
        "            dummy1 = pd.DataFrame([message], columns=['body1'])\n",
        "            dummy1[\"rating\"] = intent\n",
        "            old_message_df = old_message_df.append(dummy1)\n",
        "            \n",
        "            ## Creating new augmented batch from existing minority class\n",
        "            new_messages = data_augmentation(message, multiplication_count)\n",
        "            dummy2 = pd.DataFrame(new_messages, columns=['body1'])\n",
        "            dummy2[\"rating\"] = intent\n",
        "            new_message_df = new_message_df.append(dummy2)\n",
        "        \n",
        "        ## Select random data points from augmented data\n",
        "        new_message_df=new_message_df.take(np.random.permutation(len(new_message_df))[:count_diff])\n",
        "        \n",
        "        ## Merge existing and augmented data points\n",
        "        newdf = newdf.append([old_message_df,new_message_df])\n",
        "    else :\n",
        "        newdf = newdf.append(df[df[\"rating\"] == intent])"
      ],
      "metadata": {
        "colab": {
          "base_uri": "https://localhost:8080/"
        },
        "id": "CP5yV8zrGTHk",
        "outputId": "ea97793d-7d15-46c4-8224-267d25f50e49"
      },
      "execution_count": 29,
      "outputs": [
        {
          "output_type": "stream",
          "name": "stderr",
          "text": [
            "100%|██████████| 590/590 [00:01<00:00, 312.84it/s]\n"
          ]
        }
      ]
    },
    {
      "cell_type": "code",
      "source": [
        "newdf.rating.value_counts()"
      ],
      "metadata": {
        "colab": {
          "base_uri": "https://localhost:8080/"
        },
        "id": "vxQRWL0PGWPq",
        "outputId": "51cec4dd-33a2-4f67-a3d8-3e3fd5109902"
      },
      "execution_count": 30,
      "outputs": [
        {
          "output_type": "execute_result",
          "data": {
            "text/plain": [
              "1    845\n",
              "0    845\n",
              "Name: rating, dtype: int64"
            ]
          },
          "metadata": {},
          "execution_count": 30
        }
      ]
    },
    {
      "cell_type": "code",
      "source": [
        "newdf.head()"
      ],
      "metadata": {
        "colab": {
          "base_uri": "https://localhost:8080/",
          "height": 337
        },
        "id": "egAKe5iXGZuA",
        "outputId": "90887d9a-6eb7-4a45-b53a-7906a7022487"
      },
      "execution_count": 31,
      "outputs": [
        {
          "output_type": "execute_result",
          "data": {
            "text/plain": [
              "                                             product  \\\n",
              "1  Redmi Note 11 (Horizon Blue, 6GB RAM, 128GB St...   \n",
              "2  Redmi Note 11 (Horizon Blue, 6GB RAM, 128GB St...   \n",
              "3  Redmi Note 11 (Horizon Blue, 6GB RAM, 128GB St...   \n",
              "4  Redmi Note 11 (Horizon Blue, 6GB RAM, 128GB St...   \n",
              "5  Redmi Note 11 (Horizon Blue, 6GB RAM, 128GB St...   \n",
              "\n",
              "                                  title  rating  \\\n",
              "1                       Budget Friendly       1   \n",
              "2                    Good but not great       1   \n",
              "3                         Redmi Note 11       1   \n",
              "4                       Value for money       1   \n",
              "5  Good display and body , worst camera       1   \n",
              "\n",
              "                                                body  \\\n",
              "1  For 12500/- price it's a good picScreen Amoled...   \n",
              "2  Pros- Amoled Screen, Battery easily lasts a da...   \n",
              "3  Redmi Note 11 is great piece, but automatic ca...   \n",
              "4  The media could not be loaded.\\n              ...   \n",
              "5  Really good device with great looks and screen...   \n",
              "\n",
              "                                               body1  \n",
              "1  For  price its a good picScreen Amoled  Sounds...  \n",
              "2  Pros Amoled Screen Battery easily lasts a day ...  \n",
              "3  Redmi Note  is great piece but automatic call ...  \n",
              "4  The media could not be loaded A good fone in t...  \n",
              "5  Really good device with great looks and screen...  "
            ],
            "text/html": [
              "\n",
              "  <div id=\"df-bcacccc1-60ff-4377-bc3f-5882a9ac8c37\">\n",
              "    <div class=\"colab-df-container\">\n",
              "      <div>\n",
              "<style scoped>\n",
              "    .dataframe tbody tr th:only-of-type {\n",
              "        vertical-align: middle;\n",
              "    }\n",
              "\n",
              "    .dataframe tbody tr th {\n",
              "        vertical-align: top;\n",
              "    }\n",
              "\n",
              "    .dataframe thead th {\n",
              "        text-align: right;\n",
              "    }\n",
              "</style>\n",
              "<table border=\"1\" class=\"dataframe\">\n",
              "  <thead>\n",
              "    <tr style=\"text-align: right;\">\n",
              "      <th></th>\n",
              "      <th>product</th>\n",
              "      <th>title</th>\n",
              "      <th>rating</th>\n",
              "      <th>body</th>\n",
              "      <th>body1</th>\n",
              "    </tr>\n",
              "  </thead>\n",
              "  <tbody>\n",
              "    <tr>\n",
              "      <th>1</th>\n",
              "      <td>Redmi Note 11 (Horizon Blue, 6GB RAM, 128GB St...</td>\n",
              "      <td>Budget Friendly</td>\n",
              "      <td>1</td>\n",
              "      <td>For 12500/- price it's a good picScreen Amoled...</td>\n",
              "      <td>For  price its a good picScreen Amoled  Sounds...</td>\n",
              "    </tr>\n",
              "    <tr>\n",
              "      <th>2</th>\n",
              "      <td>Redmi Note 11 (Horizon Blue, 6GB RAM, 128GB St...</td>\n",
              "      <td>Good but not great</td>\n",
              "      <td>1</td>\n",
              "      <td>Pros- Amoled Screen, Battery easily lasts a da...</td>\n",
              "      <td>Pros Amoled Screen Battery easily lasts a day ...</td>\n",
              "    </tr>\n",
              "    <tr>\n",
              "      <th>3</th>\n",
              "      <td>Redmi Note 11 (Horizon Blue, 6GB RAM, 128GB St...</td>\n",
              "      <td>Redmi Note 11</td>\n",
              "      <td>1</td>\n",
              "      <td>Redmi Note 11 is great piece, but automatic ca...</td>\n",
              "      <td>Redmi Note  is great piece but automatic call ...</td>\n",
              "    </tr>\n",
              "    <tr>\n",
              "      <th>4</th>\n",
              "      <td>Redmi Note 11 (Horizon Blue, 6GB RAM, 128GB St...</td>\n",
              "      <td>Value for money</td>\n",
              "      <td>1</td>\n",
              "      <td>The media could not be loaded.\\n              ...</td>\n",
              "      <td>The media could not be loaded A good fone in t...</td>\n",
              "    </tr>\n",
              "    <tr>\n",
              "      <th>5</th>\n",
              "      <td>Redmi Note 11 (Horizon Blue, 6GB RAM, 128GB St...</td>\n",
              "      <td>Good display and body , worst camera</td>\n",
              "      <td>1</td>\n",
              "      <td>Really good device with great looks and screen...</td>\n",
              "      <td>Really good device with great looks and screen...</td>\n",
              "    </tr>\n",
              "  </tbody>\n",
              "</table>\n",
              "</div>\n",
              "      <button class=\"colab-df-convert\" onclick=\"convertToInteractive('df-bcacccc1-60ff-4377-bc3f-5882a9ac8c37')\"\n",
              "              title=\"Convert this dataframe to an interactive table.\"\n",
              "              style=\"display:none;\">\n",
              "        \n",
              "  <svg xmlns=\"http://www.w3.org/2000/svg\" height=\"24px\"viewBox=\"0 0 24 24\"\n",
              "       width=\"24px\">\n",
              "    <path d=\"M0 0h24v24H0V0z\" fill=\"none\"/>\n",
              "    <path d=\"M18.56 5.44l.94 2.06.94-2.06 2.06-.94-2.06-.94-.94-2.06-.94 2.06-2.06.94zm-11 1L8.5 8.5l.94-2.06 2.06-.94-2.06-.94L8.5 2.5l-.94 2.06-2.06.94zm10 10l.94 2.06.94-2.06 2.06-.94-2.06-.94-.94-2.06-.94 2.06-2.06.94z\"/><path d=\"M17.41 7.96l-1.37-1.37c-.4-.4-.92-.59-1.43-.59-.52 0-1.04.2-1.43.59L10.3 9.45l-7.72 7.72c-.78.78-.78 2.05 0 2.83L4 21.41c.39.39.9.59 1.41.59.51 0 1.02-.2 1.41-.59l7.78-7.78 2.81-2.81c.8-.78.8-2.07 0-2.86zM5.41 20L4 18.59l7.72-7.72 1.47 1.35L5.41 20z\"/>\n",
              "  </svg>\n",
              "      </button>\n",
              "      \n",
              "  <style>\n",
              "    .colab-df-container {\n",
              "      display:flex;\n",
              "      flex-wrap:wrap;\n",
              "      gap: 12px;\n",
              "    }\n",
              "\n",
              "    .colab-df-convert {\n",
              "      background-color: #E8F0FE;\n",
              "      border: none;\n",
              "      border-radius: 50%;\n",
              "      cursor: pointer;\n",
              "      display: none;\n",
              "      fill: #1967D2;\n",
              "      height: 32px;\n",
              "      padding: 0 0 0 0;\n",
              "      width: 32px;\n",
              "    }\n",
              "\n",
              "    .colab-df-convert:hover {\n",
              "      background-color: #E2EBFA;\n",
              "      box-shadow: 0px 1px 2px rgba(60, 64, 67, 0.3), 0px 1px 3px 1px rgba(60, 64, 67, 0.15);\n",
              "      fill: #174EA6;\n",
              "    }\n",
              "\n",
              "    [theme=dark] .colab-df-convert {\n",
              "      background-color: #3B4455;\n",
              "      fill: #D2E3FC;\n",
              "    }\n",
              "\n",
              "    [theme=dark] .colab-df-convert:hover {\n",
              "      background-color: #434B5C;\n",
              "      box-shadow: 0px 1px 3px 1px rgba(0, 0, 0, 0.15);\n",
              "      filter: drop-shadow(0px 1px 2px rgba(0, 0, 0, 0.3));\n",
              "      fill: #FFFFFF;\n",
              "    }\n",
              "  </style>\n",
              "\n",
              "      <script>\n",
              "        const buttonEl =\n",
              "          document.querySelector('#df-bcacccc1-60ff-4377-bc3f-5882a9ac8c37 button.colab-df-convert');\n",
              "        buttonEl.style.display =\n",
              "          google.colab.kernel.accessAllowed ? 'block' : 'none';\n",
              "\n",
              "        async function convertToInteractive(key) {\n",
              "          const element = document.querySelector('#df-bcacccc1-60ff-4377-bc3f-5882a9ac8c37');\n",
              "          const dataTable =\n",
              "            await google.colab.kernel.invokeFunction('convertToInteractive',\n",
              "                                                     [key], {});\n",
              "          if (!dataTable) return;\n",
              "\n",
              "          const docLinkHtml = 'Like what you see? Visit the ' +\n",
              "            '<a target=\"_blank\" href=https://colab.research.google.com/notebooks/data_table.ipynb>data table notebook</a>'\n",
              "            + ' to learn more about interactive tables.';\n",
              "          element.innerHTML = '';\n",
              "          dataTable['output_type'] = 'display_data';\n",
              "          await google.colab.output.renderOutput(dataTable, element);\n",
              "          const docLink = document.createElement('div');\n",
              "          docLink.innerHTML = docLinkHtml;\n",
              "          element.appendChild(docLink);\n",
              "        }\n",
              "      </script>\n",
              "    </div>\n",
              "  </div>\n",
              "  "
            ]
          },
          "metadata": {},
          "execution_count": 31
        }
      ]
    },
    {
      "cell_type": "code",
      "source": [
        "newdf.tail()"
      ],
      "metadata": {
        "colab": {
          "base_uri": "https://localhost:8080/",
          "height": 206
        },
        "id": "vZ2YjMuyGbZJ",
        "outputId": "a7bf2b95-8d7b-4161-da37-2694f9d2aa50"
      },
      "execution_count": 32,
      "outputs": [
        {
          "output_type": "execute_result",
          "data": {
            "text/plain": [
              "  product title  rating body  \\\n",
              "0     NaN   NaN       0  NaN   \n",
              "0     NaN   NaN       0  NaN   \n",
              "0     NaN   NaN       0  NaN   \n",
              "0     NaN   NaN       0  NaN   \n",
              "0     NaN   NaN       0  NaN   \n",
              "\n",
              "                                               body1  \n",
              "0                                   Worst Experience  \n",
              "0   I wouldnt have purchased this phone if I knew...  \n",
              "0                                   Nice performance  \n",
              "0           Display is niceBut the camera is too bad  \n",
              "0                camera clearty not good money waste  "
            ],
            "text/html": [
              "\n",
              "  <div id=\"df-33e621ef-22ae-4f33-8bac-00a44f770f5e\">\n",
              "    <div class=\"colab-df-container\">\n",
              "      <div>\n",
              "<style scoped>\n",
              "    .dataframe tbody tr th:only-of-type {\n",
              "        vertical-align: middle;\n",
              "    }\n",
              "\n",
              "    .dataframe tbody tr th {\n",
              "        vertical-align: top;\n",
              "    }\n",
              "\n",
              "    .dataframe thead th {\n",
              "        text-align: right;\n",
              "    }\n",
              "</style>\n",
              "<table border=\"1\" class=\"dataframe\">\n",
              "  <thead>\n",
              "    <tr style=\"text-align: right;\">\n",
              "      <th></th>\n",
              "      <th>product</th>\n",
              "      <th>title</th>\n",
              "      <th>rating</th>\n",
              "      <th>body</th>\n",
              "      <th>body1</th>\n",
              "    </tr>\n",
              "  </thead>\n",
              "  <tbody>\n",
              "    <tr>\n",
              "      <th>0</th>\n",
              "      <td>NaN</td>\n",
              "      <td>NaN</td>\n",
              "      <td>0</td>\n",
              "      <td>NaN</td>\n",
              "      <td>Worst Experience</td>\n",
              "    </tr>\n",
              "    <tr>\n",
              "      <th>0</th>\n",
              "      <td>NaN</td>\n",
              "      <td>NaN</td>\n",
              "      <td>0</td>\n",
              "      <td>NaN</td>\n",
              "      <td>I wouldnt have purchased this phone if I knew...</td>\n",
              "    </tr>\n",
              "    <tr>\n",
              "      <th>0</th>\n",
              "      <td>NaN</td>\n",
              "      <td>NaN</td>\n",
              "      <td>0</td>\n",
              "      <td>NaN</td>\n",
              "      <td>Nice performance</td>\n",
              "    </tr>\n",
              "    <tr>\n",
              "      <th>0</th>\n",
              "      <td>NaN</td>\n",
              "      <td>NaN</td>\n",
              "      <td>0</td>\n",
              "      <td>NaN</td>\n",
              "      <td>Display is niceBut the camera is too bad</td>\n",
              "    </tr>\n",
              "    <tr>\n",
              "      <th>0</th>\n",
              "      <td>NaN</td>\n",
              "      <td>NaN</td>\n",
              "      <td>0</td>\n",
              "      <td>NaN</td>\n",
              "      <td>camera clearty not good money waste</td>\n",
              "    </tr>\n",
              "  </tbody>\n",
              "</table>\n",
              "</div>\n",
              "      <button class=\"colab-df-convert\" onclick=\"convertToInteractive('df-33e621ef-22ae-4f33-8bac-00a44f770f5e')\"\n",
              "              title=\"Convert this dataframe to an interactive table.\"\n",
              "              style=\"display:none;\">\n",
              "        \n",
              "  <svg xmlns=\"http://www.w3.org/2000/svg\" height=\"24px\"viewBox=\"0 0 24 24\"\n",
              "       width=\"24px\">\n",
              "    <path d=\"M0 0h24v24H0V0z\" fill=\"none\"/>\n",
              "    <path d=\"M18.56 5.44l.94 2.06.94-2.06 2.06-.94-2.06-.94-.94-2.06-.94 2.06-2.06.94zm-11 1L8.5 8.5l.94-2.06 2.06-.94-2.06-.94L8.5 2.5l-.94 2.06-2.06.94zm10 10l.94 2.06.94-2.06 2.06-.94-2.06-.94-.94-2.06-.94 2.06-2.06.94z\"/><path d=\"M17.41 7.96l-1.37-1.37c-.4-.4-.92-.59-1.43-.59-.52 0-1.04.2-1.43.59L10.3 9.45l-7.72 7.72c-.78.78-.78 2.05 0 2.83L4 21.41c.39.39.9.59 1.41.59.51 0 1.02-.2 1.41-.59l7.78-7.78 2.81-2.81c.8-.78.8-2.07 0-2.86zM5.41 20L4 18.59l7.72-7.72 1.47 1.35L5.41 20z\"/>\n",
              "  </svg>\n",
              "      </button>\n",
              "      \n",
              "  <style>\n",
              "    .colab-df-container {\n",
              "      display:flex;\n",
              "      flex-wrap:wrap;\n",
              "      gap: 12px;\n",
              "    }\n",
              "\n",
              "    .colab-df-convert {\n",
              "      background-color: #E8F0FE;\n",
              "      border: none;\n",
              "      border-radius: 50%;\n",
              "      cursor: pointer;\n",
              "      display: none;\n",
              "      fill: #1967D2;\n",
              "      height: 32px;\n",
              "      padding: 0 0 0 0;\n",
              "      width: 32px;\n",
              "    }\n",
              "\n",
              "    .colab-df-convert:hover {\n",
              "      background-color: #E2EBFA;\n",
              "      box-shadow: 0px 1px 2px rgba(60, 64, 67, 0.3), 0px 1px 3px 1px rgba(60, 64, 67, 0.15);\n",
              "      fill: #174EA6;\n",
              "    }\n",
              "\n",
              "    [theme=dark] .colab-df-convert {\n",
              "      background-color: #3B4455;\n",
              "      fill: #D2E3FC;\n",
              "    }\n",
              "\n",
              "    [theme=dark] .colab-df-convert:hover {\n",
              "      background-color: #434B5C;\n",
              "      box-shadow: 0px 1px 3px 1px rgba(0, 0, 0, 0.15);\n",
              "      filter: drop-shadow(0px 1px 2px rgba(0, 0, 0, 0.3));\n",
              "      fill: #FFFFFF;\n",
              "    }\n",
              "  </style>\n",
              "\n",
              "      <script>\n",
              "        const buttonEl =\n",
              "          document.querySelector('#df-33e621ef-22ae-4f33-8bac-00a44f770f5e button.colab-df-convert');\n",
              "        buttonEl.style.display =\n",
              "          google.colab.kernel.accessAllowed ? 'block' : 'none';\n",
              "\n",
              "        async function convertToInteractive(key) {\n",
              "          const element = document.querySelector('#df-33e621ef-22ae-4f33-8bac-00a44f770f5e');\n",
              "          const dataTable =\n",
              "            await google.colab.kernel.invokeFunction('convertToInteractive',\n",
              "                                                     [key], {});\n",
              "          if (!dataTable) return;\n",
              "\n",
              "          const docLinkHtml = 'Like what you see? Visit the ' +\n",
              "            '<a target=\"_blank\" href=https://colab.research.google.com/notebooks/data_table.ipynb>data table notebook</a>'\n",
              "            + ' to learn more about interactive tables.';\n",
              "          element.innerHTML = '';\n",
              "          dataTable['output_type'] = 'display_data';\n",
              "          await google.colab.output.renderOutput(dataTable, element);\n",
              "          const docLink = document.createElement('div');\n",
              "          docLink.innerHTML = docLinkHtml;\n",
              "          element.appendChild(docLink);\n",
              "        }\n",
              "      </script>\n",
              "    </div>\n",
              "  </div>\n",
              "  "
            ]
          },
          "metadata": {},
          "execution_count": 32
        }
      ]
    },
    {
      "cell_type": "code",
      "source": [
        "newdf.to_csv(\"Redmi Note 11 Balanced.csv\")"
      ],
      "metadata": {
        "id": "K1UJCQyOGdb2"
      },
      "execution_count": 33,
      "outputs": []
    },
    {
      "cell_type": "code",
      "source": [
        "from google.colab import files\n",
        "files.download('Redmi Note 11 Balanced.csv')"
      ],
      "metadata": {
        "colab": {
          "base_uri": "https://localhost:8080/",
          "height": 17
        },
        "id": "tFUdmoVzGtTy",
        "outputId": "e216ea5d-af93-44f9-bf91-0bbe37574afb"
      },
      "execution_count": 34,
      "outputs": [
        {
          "output_type": "display_data",
          "data": {
            "text/plain": [
              "<IPython.core.display.Javascript object>"
            ],
            "application/javascript": [
              "\n",
              "    async function download(id, filename, size) {\n",
              "      if (!google.colab.kernel.accessAllowed) {\n",
              "        return;\n",
              "      }\n",
              "      const div = document.createElement('div');\n",
              "      const label = document.createElement('label');\n",
              "      label.textContent = `Downloading \"${filename}\": `;\n",
              "      div.appendChild(label);\n",
              "      const progress = document.createElement('progress');\n",
              "      progress.max = size;\n",
              "      div.appendChild(progress);\n",
              "      document.body.appendChild(div);\n",
              "\n",
              "      const buffers = [];\n",
              "      let downloaded = 0;\n",
              "\n",
              "      const channel = await google.colab.kernel.comms.open(id);\n",
              "      // Send a message to notify the kernel that we're ready.\n",
              "      channel.send({})\n",
              "\n",
              "      for await (const message of channel.messages) {\n",
              "        // Send a message to notify the kernel that we're ready.\n",
              "        channel.send({})\n",
              "        if (message.buffers) {\n",
              "          for (const buffer of message.buffers) {\n",
              "            buffers.push(buffer);\n",
              "            downloaded += buffer.byteLength;\n",
              "            progress.value = downloaded;\n",
              "          }\n",
              "        }\n",
              "      }\n",
              "      const blob = new Blob(buffers, {type: 'application/binary'});\n",
              "      const a = document.createElement('a');\n",
              "      a.href = window.URL.createObjectURL(blob);\n",
              "      a.download = filename;\n",
              "      div.appendChild(a);\n",
              "      a.click();\n",
              "      div.remove();\n",
              "    }\n",
              "  "
            ]
          },
          "metadata": {}
        },
        {
          "output_type": "display_data",
          "data": {
            "text/plain": [
              "<IPython.core.display.Javascript object>"
            ],
            "application/javascript": [
              "download(\"download_4dc7ac7b-eee5-4acf-b610-2782b1c24582\", \"Redmi Note 11 Balanced.csv\", 438874)"
            ]
          },
          "metadata": {}
        }
      ]
    }
  ]
}