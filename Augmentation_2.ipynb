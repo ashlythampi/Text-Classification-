{
  "nbformat": 4,
  "nbformat_minor": 0,
  "metadata": {
    "colab": {
      "provenance": []
    },
    "kernelspec": {
      "name": "python3",
      "display_name": "Python 3"
    },
    "language_info": {
      "name": "python"
    }
  },
  "cells": [
    {
      "cell_type": "code",
      "execution_count": 59,
      "metadata": {
        "id": "CSDq4A64D50c"
      },
      "outputs": [],
      "source": [
        "## Import python library\n",
        "import pandas as pd\n",
        "import nltk\n",
        "\n",
        "## Read file\n",
        "file_name = '/content/Samsung Galaxy A12.csv'\n",
        "## Read file using pandas\n",
        "df = pd.read_csv(file_name)"
      ]
    },
    {
      "cell_type": "code",
      "source": [
        "# imports\n",
        "import re\n",
        "# function to remove special characters\n",
        "def remove_special_characters(text):\n",
        "    # define the pattern to keep\n",
        "    pat = r'[^a-zA-z0-9.,!?/:;\\\"\\'\\s]' \n",
        "    return re.sub(pat, '', text)"
      ],
      "metadata": {
        "id": "5GUdbSYtEPHc"
      },
      "execution_count": 60,
      "outputs": []
    },
    {
      "cell_type": "code",
      "source": [
        "import re\n",
        "l = []\n",
        "asd_train = []\n",
        "pat = r'[^a-zA-z0-9.,!?/:;\\\"\\'\\s]'\n",
        "for i in range(df.shape[0]):\n",
        "    \n",
        "    g = str(df.iloc[i]['body'])\n",
        "    g = g.replace('[^\\w\\s]','')\n",
        "    g = remove_special_characters(g)\n",
        "    g = g.replace(\"/\",\" \")\n",
        "    g = g.replace(\".\",\" \").replace(\",\",\" \").replace(\"\\'\",\"\").replace(\"\\\"\",\"\").replace(\":\",\" \")\n",
        "    g = \" \".join(g.split())\n",
        "    k = \"\"\n",
        "    for j in g:\n",
        "        if(j == \" \"):\n",
        "            k = k + j\n",
        "        elif(ord(j)>=ord('A') and ord(j)<=ord('Z')):\n",
        "            k = k + j\n",
        "        elif(ord(j)>=ord('a') and ord(j)<=ord('z')):\n",
        "            k = k + j\n",
        "                \n",
        "    g1 = df.iloc[i]['rating']\n",
        "    if(g1>3):\n",
        "        asd_train.append(1)\n",
        "    else:\n",
        "        asd_train.append(0)\n",
        "    l.append(k)"
      ],
      "metadata": {
        "id": "HInh6I5-ESIw"
      },
      "execution_count": 61,
      "outputs": []
    },
    {
      "cell_type": "code",
      "source": [
        "df['body1'] = l"
      ],
      "metadata": {
        "id": "t5AfY0ttEUq6"
      },
      "execution_count": 62,
      "outputs": []
    },
    {
      "cell_type": "code",
      "source": [
        "df['rating'] = asd_train"
      ],
      "metadata": {
        "id": "VLqrt3OLEW7a"
      },
      "execution_count": 63,
      "outputs": []
    },
    {
      "cell_type": "code",
      "source": [
        "df.head()"
      ],
      "metadata": {
        "colab": {
          "base_uri": "https://localhost:8080/",
          "height": 337
        },
        "id": "ONP2BuxsEYhm",
        "outputId": "eda96dd0-d7a1-4121-8735-47ac77632fd9"
      },
      "execution_count": 64,
      "outputs": [
        {
          "output_type": "execute_result",
          "data": {
            "text/plain": [
              "                                             product  \\\n",
              "0  Samsung Galaxy A12 (Black, 4GB RAM, 64GB Stora...   \n",
              "1  Samsung Galaxy A12 (Black, 4GB RAM, 64GB Stora...   \n",
              "2  Samsung Galaxy A12 (Black, 4GB RAM, 64GB Stora...   \n",
              "3  Samsung Galaxy A12 (Black, 4GB RAM, 64GB Stora...   \n",
              "4  Samsung Galaxy A12 (Black, 4GB RAM, 64GB Stora...   \n",
              "\n",
              "                                               title  rating  \\\n",
              "0                         Dont buy dont bully urself       0   \n",
              "1  Don't buy Samsung A12. This model has poor per...       0   \n",
              "2                                      Nice new look       1   \n",
              "3                             never buy this product       0   \n",
              "4                                               Good       1   \n",
              "\n",
              "                                                body  \\\n",
              "0  Buyd on 20th looking 128gb and good camera but...   \n",
              "1  Though its brand new phone. There is lagging i...   \n",
              "2  Nice new lookNice cameraNice & clear speaker3....   \n",
              "3  This phone heats up within 10 minutes of video...   \n",
              "4                                  It is very smooth   \n",
              "\n",
              "                                               body1  \n",
              "0  Buyd on th looking gb and good camera but real...  \n",
              "1  Though its brand new phone There is lagging in...  \n",
              "2  Nice new lookNice cameraNice clear speaker  Ja...  \n",
              "3  This phone heats up within  minutes of video c...  \n",
              "4                                  It is very smooth  "
            ],
            "text/html": [
              "\n",
              "  <div id=\"df-f8b35d22-ef95-47ae-9f18-0bed5aa4738f\">\n",
              "    <div class=\"colab-df-container\">\n",
              "      <div>\n",
              "<style scoped>\n",
              "    .dataframe tbody tr th:only-of-type {\n",
              "        vertical-align: middle;\n",
              "    }\n",
              "\n",
              "    .dataframe tbody tr th {\n",
              "        vertical-align: top;\n",
              "    }\n",
              "\n",
              "    .dataframe thead th {\n",
              "        text-align: right;\n",
              "    }\n",
              "</style>\n",
              "<table border=\"1\" class=\"dataframe\">\n",
              "  <thead>\n",
              "    <tr style=\"text-align: right;\">\n",
              "      <th></th>\n",
              "      <th>product</th>\n",
              "      <th>title</th>\n",
              "      <th>rating</th>\n",
              "      <th>body</th>\n",
              "      <th>body1</th>\n",
              "    </tr>\n",
              "  </thead>\n",
              "  <tbody>\n",
              "    <tr>\n",
              "      <th>0</th>\n",
              "      <td>Samsung Galaxy A12 (Black, 4GB RAM, 64GB Stora...</td>\n",
              "      <td>Dont buy dont bully urself</td>\n",
              "      <td>0</td>\n",
              "      <td>Buyd on 20th looking 128gb and good camera but...</td>\n",
              "      <td>Buyd on th looking gb and good camera but real...</td>\n",
              "    </tr>\n",
              "    <tr>\n",
              "      <th>1</th>\n",
              "      <td>Samsung Galaxy A12 (Black, 4GB RAM, 64GB Stora...</td>\n",
              "      <td>Don't buy Samsung A12. This model has poor per...</td>\n",
              "      <td>0</td>\n",
              "      <td>Though its brand new phone. There is lagging i...</td>\n",
              "      <td>Though its brand new phone There is lagging in...</td>\n",
              "    </tr>\n",
              "    <tr>\n",
              "      <th>2</th>\n",
              "      <td>Samsung Galaxy A12 (Black, 4GB RAM, 64GB Stora...</td>\n",
              "      <td>Nice new look</td>\n",
              "      <td>1</td>\n",
              "      <td>Nice new lookNice cameraNice &amp; clear speaker3....</td>\n",
              "      <td>Nice new lookNice cameraNice clear speaker  Ja...</td>\n",
              "    </tr>\n",
              "    <tr>\n",
              "      <th>3</th>\n",
              "      <td>Samsung Galaxy A12 (Black, 4GB RAM, 64GB Stora...</td>\n",
              "      <td>never buy this product</td>\n",
              "      <td>0</td>\n",
              "      <td>This phone heats up within 10 minutes of video...</td>\n",
              "      <td>This phone heats up within  minutes of video c...</td>\n",
              "    </tr>\n",
              "    <tr>\n",
              "      <th>4</th>\n",
              "      <td>Samsung Galaxy A12 (Black, 4GB RAM, 64GB Stora...</td>\n",
              "      <td>Good</td>\n",
              "      <td>1</td>\n",
              "      <td>It is very smooth</td>\n",
              "      <td>It is very smooth</td>\n",
              "    </tr>\n",
              "  </tbody>\n",
              "</table>\n",
              "</div>\n",
              "      <button class=\"colab-df-convert\" onclick=\"convertToInteractive('df-f8b35d22-ef95-47ae-9f18-0bed5aa4738f')\"\n",
              "              title=\"Convert this dataframe to an interactive table.\"\n",
              "              style=\"display:none;\">\n",
              "        \n",
              "  <svg xmlns=\"http://www.w3.org/2000/svg\" height=\"24px\"viewBox=\"0 0 24 24\"\n",
              "       width=\"24px\">\n",
              "    <path d=\"M0 0h24v24H0V0z\" fill=\"none\"/>\n",
              "    <path d=\"M18.56 5.44l.94 2.06.94-2.06 2.06-.94-2.06-.94-.94-2.06-.94 2.06-2.06.94zm-11 1L8.5 8.5l.94-2.06 2.06-.94-2.06-.94L8.5 2.5l-.94 2.06-2.06.94zm10 10l.94 2.06.94-2.06 2.06-.94-2.06-.94-.94-2.06-.94 2.06-2.06.94z\"/><path d=\"M17.41 7.96l-1.37-1.37c-.4-.4-.92-.59-1.43-.59-.52 0-1.04.2-1.43.59L10.3 9.45l-7.72 7.72c-.78.78-.78 2.05 0 2.83L4 21.41c.39.39.9.59 1.41.59.51 0 1.02-.2 1.41-.59l7.78-7.78 2.81-2.81c.8-.78.8-2.07 0-2.86zM5.41 20L4 18.59l7.72-7.72 1.47 1.35L5.41 20z\"/>\n",
              "  </svg>\n",
              "      </button>\n",
              "      \n",
              "  <style>\n",
              "    .colab-df-container {\n",
              "      display:flex;\n",
              "      flex-wrap:wrap;\n",
              "      gap: 12px;\n",
              "    }\n",
              "\n",
              "    .colab-df-convert {\n",
              "      background-color: #E8F0FE;\n",
              "      border: none;\n",
              "      border-radius: 50%;\n",
              "      cursor: pointer;\n",
              "      display: none;\n",
              "      fill: #1967D2;\n",
              "      height: 32px;\n",
              "      padding: 0 0 0 0;\n",
              "      width: 32px;\n",
              "    }\n",
              "\n",
              "    .colab-df-convert:hover {\n",
              "      background-color: #E2EBFA;\n",
              "      box-shadow: 0px 1px 2px rgba(60, 64, 67, 0.3), 0px 1px 3px 1px rgba(60, 64, 67, 0.15);\n",
              "      fill: #174EA6;\n",
              "    }\n",
              "\n",
              "    [theme=dark] .colab-df-convert {\n",
              "      background-color: #3B4455;\n",
              "      fill: #D2E3FC;\n",
              "    }\n",
              "\n",
              "    [theme=dark] .colab-df-convert:hover {\n",
              "      background-color: #434B5C;\n",
              "      box-shadow: 0px 1px 3px 1px rgba(0, 0, 0, 0.15);\n",
              "      filter: drop-shadow(0px 1px 2px rgba(0, 0, 0, 0.3));\n",
              "      fill: #FFFFFF;\n",
              "    }\n",
              "  </style>\n",
              "\n",
              "      <script>\n",
              "        const buttonEl =\n",
              "          document.querySelector('#df-f8b35d22-ef95-47ae-9f18-0bed5aa4738f button.colab-df-convert');\n",
              "        buttonEl.style.display =\n",
              "          google.colab.kernel.accessAllowed ? 'block' : 'none';\n",
              "\n",
              "        async function convertToInteractive(key) {\n",
              "          const element = document.querySelector('#df-f8b35d22-ef95-47ae-9f18-0bed5aa4738f');\n",
              "          const dataTable =\n",
              "            await google.colab.kernel.invokeFunction('convertToInteractive',\n",
              "                                                     [key], {});\n",
              "          if (!dataTable) return;\n",
              "\n",
              "          const docLinkHtml = 'Like what you see? Visit the ' +\n",
              "            '<a target=\"_blank\" href=https://colab.research.google.com/notebooks/data_table.ipynb>data table notebook</a>'\n",
              "            + ' to learn more about interactive tables.';\n",
              "          element.innerHTML = '';\n",
              "          dataTable['output_type'] = 'display_data';\n",
              "          await google.colab.output.renderOutput(dataTable, element);\n",
              "          const docLink = document.createElement('div');\n",
              "          docLink.innerHTML = docLinkHtml;\n",
              "          element.appendChild(docLink);\n",
              "        }\n",
              "      </script>\n",
              "    </div>\n",
              "  </div>\n",
              "  "
            ]
          },
          "metadata": {},
          "execution_count": 64
        }
      ]
    },
    {
      "cell_type": "code",
      "source": [
        "df.rating.value_counts()"
      ],
      "metadata": {
        "colab": {
          "base_uri": "https://localhost:8080/"
        },
        "id": "HMpcTQ1lEae6",
        "outputId": "13bdb902-1b68-4e4c-a9ac-15a644b123c3"
      },
      "execution_count": 65,
      "outputs": [
        {
          "output_type": "execute_result",
          "data": {
            "text/plain": [
              "0    168\n",
              "1    166\n",
              "Name: rating, dtype: int64"
            ]
          },
          "metadata": {},
          "execution_count": 65
        }
      ]
    },
    {
      "cell_type": "code",
      "source": [
        "import nltk\n",
        "nltk.download('stopwords')\n",
        "  "
      ],
      "metadata": {
        "colab": {
          "base_uri": "https://localhost:8080/"
        },
        "id": "zBgLnV4xEtAJ",
        "outputId": "8c4a057b-6147-4657-953e-0e36357400d4"
      },
      "execution_count": 66,
      "outputs": [
        {
          "output_type": "stream",
          "name": "stderr",
          "text": [
            "[nltk_data] Downloading package stopwords to /root/nltk_data...\n",
            "[nltk_data]   Package stopwords is already up-to-date!\n"
          ]
        },
        {
          "output_type": "execute_result",
          "data": {
            "text/plain": [
              "True"
            ]
          },
          "metadata": {},
          "execution_count": 66
        }
      ]
    },
    {
      "cell_type": "code",
      "source": [
        "stop = nltk.corpus.stopwords.words('english')"
      ],
      "metadata": {
        "id": "wCqMl5yAEcvS"
      },
      "execution_count": 67,
      "outputs": []
    },
    {
      "cell_type": "code",
      "source": [
        "## Tokenizing sentence into token for finding synonym.\n",
        "def make_tokenizer(texts):\n",
        "    from keras.preprocessing.text import Tokenizer\n",
        "    t = Tokenizer()\n",
        "    t.fit_on_texts(texts)\n",
        "    return t\n",
        "\n",
        "tokenizer = make_tokenizer(df['body1'])    ## Message is column name\n",
        "\n",
        "X = tokenizer.texts_to_sequences(df['body1'])\n",
        "\n",
        "from keras_preprocessing.sequence import pad_sequences\n",
        "X = pad_sequences(X, 70)"
      ],
      "metadata": {
        "id": "xjd2qYgeEe0D"
      },
      "execution_count": 68,
      "outputs": []
    },
    {
      "cell_type": "code",
      "source": [
        "## Dictionary of word index\n",
        "index_word = {}\n",
        "for word in tokenizer.word_index.keys():\n",
        "    index_word[tokenizer.word_index[word]] = word"
      ],
      "metadata": {
        "id": "Qi7BOO0-FHNi"
      },
      "execution_count": 69,
      "outputs": []
    },
    {
      "cell_type": "code",
      "source": [
        "## word list\n",
        "words = [value for key, value in index_word.items()]"
      ],
      "metadata": {
        "id": "Wa6RHXtvF-Ct"
      },
      "execution_count": 70,
      "outputs": []
    },
    {
      "cell_type": "code",
      "source": [
        "## Function to find synonym of words \n",
        "import spacy\n",
        "nlp = spacy.load('en_core_web_sm',disable=['parser'])\n",
        "def check_lemma(t,w) :\n",
        "    r = [d for d in t if (nlp(d.text)[0].lemma_ != nlp(w.text)[0].lemma_)]\n",
        "    return r\n",
        "\n",
        "def get_word_synonym(word):\n",
        "    filtered_words = [w for w in word.vocab if (not w.lower_ in stop) and w.is_lower == word.is_lower and w.prob >= -15] ## (not w.lower_ in stop) and\n",
        "    similarity = sorted(filtered_words, key=lambda w: word.similarity(w), reverse=True)\n",
        "    filtered_similarity = check_lemma(similarity[:30], word)\n",
        "    return filtered_similarity[:3]"
      ],
      "metadata": {
        "colab": {
          "base_uri": "https://localhost:8080/"
        },
        "id": "4Ke-kAbIGAbE",
        "outputId": "e99add40-5ef7-4164-84bd-ffd2b325b4b0"
      },
      "execution_count": 71,
      "outputs": [
        {
          "output_type": "stream",
          "name": "stderr",
          "text": [
            "/usr/local/lib/python3.7/dist-packages/spacy/language.py:1899: UserWarning: [W123] Argument disable with value ['parser'] is used instead of ['senter'] as specified in the config. Be aware that this might affect other components in your pipeline.\n",
            "  config_value=config[\"nlp\"][key],\n"
          ]
        }
      ]
    },
    {
      "cell_type": "code",
      "source": [
        "## Synonym dictionary\n",
        "synonym_dict = {}\n",
        "\n",
        "for word in words:\n",
        "    synonym_dict.update({word : tuple([w.lower_ for w in get_word_synonym(nlp.vocab[word])])})\n",
        "        #print(word, \" : \", [w.lower_ for w in get_word_synonym(nlp.vocab[word])])"
      ],
      "metadata": {
        "id": "Z01yT_eBGDGT"
      },
      "execution_count": 72,
      "outputs": []
    },
    {
      "cell_type": "code",
      "source": [
        "## Only consider filtered synonym\n",
        "import collections\n",
        "value_occurrences = collections.Counter(synonym_dict.values())\n",
        "\n",
        "filtered_synonym = {key: value for key, value in synonym_dict.items() if value_occurrences[value] == 1}"
      ],
      "metadata": {
        "id": "JwIgI-GBGFVg"
      },
      "execution_count": 73,
      "outputs": []
    },
    {
      "cell_type": "code",
      "source": [
        "## Function for augmenting data by replacing words with synonym using spaCy\n",
        "## This might not be best best method compared to data augmentation using language translation\n",
        "\n",
        "import re\n",
        "import random\n",
        "sr = random.SystemRandom()\n",
        "split_pattern = re.compile(r'\\s+')\n",
        "def data_augmentation(message, aug_range=1) :\n",
        "    augmented_messages = []\n",
        "    for j in range(0,aug_range) :\n",
        "        new_message = \"\"\n",
        "        for i in filter(None, split_pattern.split(message)) :\n",
        "            new_message = new_message + \" \" + sr.choice(filtered_synonym.get(i,[i]))\n",
        "        augmented_messages.append(new_message)\n",
        "    return augmented_messages"
      ],
      "metadata": {
        "id": "MWgAgAjpGHtU"
      },
      "execution_count": 74,
      "outputs": []
    },
    {
      "cell_type": "code",
      "source": [
        "## Dictionary for intent count\n",
        "## Intent is column name\n",
        "intent_count = df.rating.value_counts().to_dict()"
      ],
      "metadata": {
        "id": "g50iAR3nGO_n"
      },
      "execution_count": 75,
      "outputs": []
    },
    {
      "cell_type": "code",
      "source": [
        "## Get max intent count to match other minority classes through data augmentation\n",
        "import operator\n",
        "max_intent_count = max(intent_count.items(), key=operator.itemgetter(1))[1]"
      ],
      "metadata": {
        "id": "uX40ic_PGRId"
      },
      "execution_count": 76,
      "outputs": []
    },
    {
      "cell_type": "code",
      "source": [
        "## Loop to interate all messages\n",
        "import numpy as np\n",
        "import math\n",
        "import tqdm\n",
        "newdf = pd.DataFrame()\n",
        "for intent, count in intent_count.items() :\n",
        "    count_diff = max_intent_count - count    ## Difference to fill\n",
        "    multiplication_count = math.ceil((count_diff)/count)  ## Multiplying a minority classes for multiplication_count times\n",
        "    if (multiplication_count) :\n",
        "        old_message_df = pd.DataFrame()\n",
        "        new_message_df = pd.DataFrame()\n",
        "        for message in tqdm.tqdm(df[df[\"rating\"] == intent][\"body1\"]) :\n",
        "            ## Extracting existing minority class batch\n",
        "            dummy1 = pd.DataFrame([message], columns=['body1'])\n",
        "            dummy1[\"rating\"] = intent\n",
        "            old_message_df = old_message_df.append(dummy1)\n",
        "            \n",
        "            ## Creating new augmented batch from existing minority class\n",
        "            new_messages = data_augmentation(message, multiplication_count)\n",
        "            dummy2 = pd.DataFrame(new_messages, columns=['body1'])\n",
        "            dummy2[\"rating\"] = intent\n",
        "            new_message_df = new_message_df.append(dummy2)\n",
        "        \n",
        "        ## Select random data points from augmented data\n",
        "        new_message_df=new_message_df.take(np.random.permutation(len(new_message_df))[:count_diff])\n",
        "        \n",
        "        ## Merge existing and augmented data points\n",
        "        newdf = newdf.append([old_message_df,new_message_df])\n",
        "    else :\n",
        "        newdf = newdf.append(df[df[\"rating\"] == intent])"
      ],
      "metadata": {
        "colab": {
          "base_uri": "https://localhost:8080/"
        },
        "id": "CP5yV8zrGTHk",
        "outputId": "834ce6b1-9058-460a-83a3-3c1471e5b281"
      },
      "execution_count": 77,
      "outputs": [
        {
          "output_type": "stream",
          "name": "stderr",
          "text": [
            "100%|██████████| 166/166 [00:00<00:00, 424.59it/s]\n"
          ]
        }
      ]
    },
    {
      "cell_type": "code",
      "source": [
        "newdf.rating.value_counts()"
      ],
      "metadata": {
        "colab": {
          "base_uri": "https://localhost:8080/"
        },
        "id": "vxQRWL0PGWPq",
        "outputId": "8456d17f-299c-4400-8876-f20aebd9594a"
      },
      "execution_count": 78,
      "outputs": [
        {
          "output_type": "execute_result",
          "data": {
            "text/plain": [
              "0    168\n",
              "1    168\n",
              "Name: rating, dtype: int64"
            ]
          },
          "metadata": {},
          "execution_count": 78
        }
      ]
    },
    {
      "cell_type": "code",
      "source": [
        "newdf.head()"
      ],
      "metadata": {
        "colab": {
          "base_uri": "https://localhost:8080/",
          "height": 337
        },
        "id": "egAKe5iXGZuA",
        "outputId": "d1d69f37-fb84-49b0-e5ca-8821c6f0d601"
      },
      "execution_count": 79,
      "outputs": [
        {
          "output_type": "execute_result",
          "data": {
            "text/plain": [
              "                                             product  \\\n",
              "0  Samsung Galaxy A12 (Black, 4GB RAM, 64GB Stora...   \n",
              "1  Samsung Galaxy A12 (Black, 4GB RAM, 64GB Stora...   \n",
              "3  Samsung Galaxy A12 (Black, 4GB RAM, 64GB Stora...   \n",
              "5  Samsung Galaxy A12 (Black, 4GB RAM, 64GB Stora...   \n",
              "6  Samsung Galaxy A12 (Black, 4GB RAM, 64GB Stora...   \n",
              "\n",
              "                                               title  rating  \\\n",
              "0                         Dont buy dont bully urself       0   \n",
              "1  Don't buy Samsung A12. This model has poor per...       0   \n",
              "3                             never buy this product       0   \n",
              "5                                         DO NOT BUY       0   \n",
              "6                                       Amazon fault       0   \n",
              "\n",
              "                                                body  \\\n",
              "0  Buyd on 20th looking 128gb and good camera but...   \n",
              "1  Though its brand new phone. There is lagging i...   \n",
              "3  This phone heats up within 10 minutes of video...   \n",
              "5  Startup is slower then my 2009 nokia.Phone ove...   \n",
              "6  Phone quality is very poor,  mobile is hanging...   \n",
              "\n",
              "                                               body1  \n",
              "0  Buyd on th looking gb and good camera but real...  \n",
              "1  Though its brand new phone There is lagging in...  \n",
              "3  This phone heats up within  minutes of video c...  \n",
              "5  Startup is slower then my  nokia Phone overhea...  \n",
              "6  Phone quality is very poor mobile is hanging w...  "
            ],
            "text/html": [
              "\n",
              "  <div id=\"df-6da8f194-9810-46e2-bd8e-455c2d6b15d7\">\n",
              "    <div class=\"colab-df-container\">\n",
              "      <div>\n",
              "<style scoped>\n",
              "    .dataframe tbody tr th:only-of-type {\n",
              "        vertical-align: middle;\n",
              "    }\n",
              "\n",
              "    .dataframe tbody tr th {\n",
              "        vertical-align: top;\n",
              "    }\n",
              "\n",
              "    .dataframe thead th {\n",
              "        text-align: right;\n",
              "    }\n",
              "</style>\n",
              "<table border=\"1\" class=\"dataframe\">\n",
              "  <thead>\n",
              "    <tr style=\"text-align: right;\">\n",
              "      <th></th>\n",
              "      <th>product</th>\n",
              "      <th>title</th>\n",
              "      <th>rating</th>\n",
              "      <th>body</th>\n",
              "      <th>body1</th>\n",
              "    </tr>\n",
              "  </thead>\n",
              "  <tbody>\n",
              "    <tr>\n",
              "      <th>0</th>\n",
              "      <td>Samsung Galaxy A12 (Black, 4GB RAM, 64GB Stora...</td>\n",
              "      <td>Dont buy dont bully urself</td>\n",
              "      <td>0</td>\n",
              "      <td>Buyd on 20th looking 128gb and good camera but...</td>\n",
              "      <td>Buyd on th looking gb and good camera but real...</td>\n",
              "    </tr>\n",
              "    <tr>\n",
              "      <th>1</th>\n",
              "      <td>Samsung Galaxy A12 (Black, 4GB RAM, 64GB Stora...</td>\n",
              "      <td>Don't buy Samsung A12. This model has poor per...</td>\n",
              "      <td>0</td>\n",
              "      <td>Though its brand new phone. There is lagging i...</td>\n",
              "      <td>Though its brand new phone There is lagging in...</td>\n",
              "    </tr>\n",
              "    <tr>\n",
              "      <th>3</th>\n",
              "      <td>Samsung Galaxy A12 (Black, 4GB RAM, 64GB Stora...</td>\n",
              "      <td>never buy this product</td>\n",
              "      <td>0</td>\n",
              "      <td>This phone heats up within 10 minutes of video...</td>\n",
              "      <td>This phone heats up within  minutes of video c...</td>\n",
              "    </tr>\n",
              "    <tr>\n",
              "      <th>5</th>\n",
              "      <td>Samsung Galaxy A12 (Black, 4GB RAM, 64GB Stora...</td>\n",
              "      <td>DO NOT BUY</td>\n",
              "      <td>0</td>\n",
              "      <td>Startup is slower then my 2009 nokia.Phone ove...</td>\n",
              "      <td>Startup is slower then my  nokia Phone overhea...</td>\n",
              "    </tr>\n",
              "    <tr>\n",
              "      <th>6</th>\n",
              "      <td>Samsung Galaxy A12 (Black, 4GB RAM, 64GB Stora...</td>\n",
              "      <td>Amazon fault</td>\n",
              "      <td>0</td>\n",
              "      <td>Phone quality is very poor,  mobile is hanging...</td>\n",
              "      <td>Phone quality is very poor mobile is hanging w...</td>\n",
              "    </tr>\n",
              "  </tbody>\n",
              "</table>\n",
              "</div>\n",
              "      <button class=\"colab-df-convert\" onclick=\"convertToInteractive('df-6da8f194-9810-46e2-bd8e-455c2d6b15d7')\"\n",
              "              title=\"Convert this dataframe to an interactive table.\"\n",
              "              style=\"display:none;\">\n",
              "        \n",
              "  <svg xmlns=\"http://www.w3.org/2000/svg\" height=\"24px\"viewBox=\"0 0 24 24\"\n",
              "       width=\"24px\">\n",
              "    <path d=\"M0 0h24v24H0V0z\" fill=\"none\"/>\n",
              "    <path d=\"M18.56 5.44l.94 2.06.94-2.06 2.06-.94-2.06-.94-.94-2.06-.94 2.06-2.06.94zm-11 1L8.5 8.5l.94-2.06 2.06-.94-2.06-.94L8.5 2.5l-.94 2.06-2.06.94zm10 10l.94 2.06.94-2.06 2.06-.94-2.06-.94-.94-2.06-.94 2.06-2.06.94z\"/><path d=\"M17.41 7.96l-1.37-1.37c-.4-.4-.92-.59-1.43-.59-.52 0-1.04.2-1.43.59L10.3 9.45l-7.72 7.72c-.78.78-.78 2.05 0 2.83L4 21.41c.39.39.9.59 1.41.59.51 0 1.02-.2 1.41-.59l7.78-7.78 2.81-2.81c.8-.78.8-2.07 0-2.86zM5.41 20L4 18.59l7.72-7.72 1.47 1.35L5.41 20z\"/>\n",
              "  </svg>\n",
              "      </button>\n",
              "      \n",
              "  <style>\n",
              "    .colab-df-container {\n",
              "      display:flex;\n",
              "      flex-wrap:wrap;\n",
              "      gap: 12px;\n",
              "    }\n",
              "\n",
              "    .colab-df-convert {\n",
              "      background-color: #E8F0FE;\n",
              "      border: none;\n",
              "      border-radius: 50%;\n",
              "      cursor: pointer;\n",
              "      display: none;\n",
              "      fill: #1967D2;\n",
              "      height: 32px;\n",
              "      padding: 0 0 0 0;\n",
              "      width: 32px;\n",
              "    }\n",
              "\n",
              "    .colab-df-convert:hover {\n",
              "      background-color: #E2EBFA;\n",
              "      box-shadow: 0px 1px 2px rgba(60, 64, 67, 0.3), 0px 1px 3px 1px rgba(60, 64, 67, 0.15);\n",
              "      fill: #174EA6;\n",
              "    }\n",
              "\n",
              "    [theme=dark] .colab-df-convert {\n",
              "      background-color: #3B4455;\n",
              "      fill: #D2E3FC;\n",
              "    }\n",
              "\n",
              "    [theme=dark] .colab-df-convert:hover {\n",
              "      background-color: #434B5C;\n",
              "      box-shadow: 0px 1px 3px 1px rgba(0, 0, 0, 0.15);\n",
              "      filter: drop-shadow(0px 1px 2px rgba(0, 0, 0, 0.3));\n",
              "      fill: #FFFFFF;\n",
              "    }\n",
              "  </style>\n",
              "\n",
              "      <script>\n",
              "        const buttonEl =\n",
              "          document.querySelector('#df-6da8f194-9810-46e2-bd8e-455c2d6b15d7 button.colab-df-convert');\n",
              "        buttonEl.style.display =\n",
              "          google.colab.kernel.accessAllowed ? 'block' : 'none';\n",
              "\n",
              "        async function convertToInteractive(key) {\n",
              "          const element = document.querySelector('#df-6da8f194-9810-46e2-bd8e-455c2d6b15d7');\n",
              "          const dataTable =\n",
              "            await google.colab.kernel.invokeFunction('convertToInteractive',\n",
              "                                                     [key], {});\n",
              "          if (!dataTable) return;\n",
              "\n",
              "          const docLinkHtml = 'Like what you see? Visit the ' +\n",
              "            '<a target=\"_blank\" href=https://colab.research.google.com/notebooks/data_table.ipynb>data table notebook</a>'\n",
              "            + ' to learn more about interactive tables.';\n",
              "          element.innerHTML = '';\n",
              "          dataTable['output_type'] = 'display_data';\n",
              "          await google.colab.output.renderOutput(dataTable, element);\n",
              "          const docLink = document.createElement('div');\n",
              "          docLink.innerHTML = docLinkHtml;\n",
              "          element.appendChild(docLink);\n",
              "        }\n",
              "      </script>\n",
              "    </div>\n",
              "  </div>\n",
              "  "
            ]
          },
          "metadata": {},
          "execution_count": 79
        }
      ]
    },
    {
      "cell_type": "code",
      "source": [
        "newdf.tail()"
      ],
      "metadata": {
        "colab": {
          "base_uri": "https://localhost:8080/",
          "height": 206
        },
        "id": "vZ2YjMuyGbZJ",
        "outputId": "c252d1e5-d59f-4e84-c13d-09d21a7ec994"
      },
      "execution_count": 80,
      "outputs": [
        {
          "output_type": "execute_result",
          "data": {
            "text/plain": [
              "  product title  rating body  \\\n",
              "0     NaN   NaN       1  NaN   \n",
              "0     NaN   NaN       1  NaN   \n",
              "0     NaN   NaN       1  NaN   \n",
              "0     NaN   NaN       1  NaN   \n",
              "0     NaN   NaN       1  NaN   \n",
              "\n",
              "                                               body1  \n",
              "0                                                Grt  \n",
              "0                                         Nice phone  \n",
              "0  Its a good phone Useful and handy Good quality...  \n",
              "0   MPMPMPMP Multi Role Quad CameraMP F main came...  \n",
              "0                               Amazing battery life  "
            ],
            "text/html": [
              "\n",
              "  <div id=\"df-cc2089c7-dded-4140-a615-f0122bc32171\">\n",
              "    <div class=\"colab-df-container\">\n",
              "      <div>\n",
              "<style scoped>\n",
              "    .dataframe tbody tr th:only-of-type {\n",
              "        vertical-align: middle;\n",
              "    }\n",
              "\n",
              "    .dataframe tbody tr th {\n",
              "        vertical-align: top;\n",
              "    }\n",
              "\n",
              "    .dataframe thead th {\n",
              "        text-align: right;\n",
              "    }\n",
              "</style>\n",
              "<table border=\"1\" class=\"dataframe\">\n",
              "  <thead>\n",
              "    <tr style=\"text-align: right;\">\n",
              "      <th></th>\n",
              "      <th>product</th>\n",
              "      <th>title</th>\n",
              "      <th>rating</th>\n",
              "      <th>body</th>\n",
              "      <th>body1</th>\n",
              "    </tr>\n",
              "  </thead>\n",
              "  <tbody>\n",
              "    <tr>\n",
              "      <th>0</th>\n",
              "      <td>NaN</td>\n",
              "      <td>NaN</td>\n",
              "      <td>1</td>\n",
              "      <td>NaN</td>\n",
              "      <td>Grt</td>\n",
              "    </tr>\n",
              "    <tr>\n",
              "      <th>0</th>\n",
              "      <td>NaN</td>\n",
              "      <td>NaN</td>\n",
              "      <td>1</td>\n",
              "      <td>NaN</td>\n",
              "      <td>Nice phone</td>\n",
              "    </tr>\n",
              "    <tr>\n",
              "      <th>0</th>\n",
              "      <td>NaN</td>\n",
              "      <td>NaN</td>\n",
              "      <td>1</td>\n",
              "      <td>NaN</td>\n",
              "      <td>Its a good phone Useful and handy Good quality...</td>\n",
              "    </tr>\n",
              "    <tr>\n",
              "      <th>0</th>\n",
              "      <td>NaN</td>\n",
              "      <td>NaN</td>\n",
              "      <td>1</td>\n",
              "      <td>NaN</td>\n",
              "      <td>MPMPMPMP Multi Role Quad CameraMP F main came...</td>\n",
              "    </tr>\n",
              "    <tr>\n",
              "      <th>0</th>\n",
              "      <td>NaN</td>\n",
              "      <td>NaN</td>\n",
              "      <td>1</td>\n",
              "      <td>NaN</td>\n",
              "      <td>Amazing battery life</td>\n",
              "    </tr>\n",
              "  </tbody>\n",
              "</table>\n",
              "</div>\n",
              "      <button class=\"colab-df-convert\" onclick=\"convertToInteractive('df-cc2089c7-dded-4140-a615-f0122bc32171')\"\n",
              "              title=\"Convert this dataframe to an interactive table.\"\n",
              "              style=\"display:none;\">\n",
              "        \n",
              "  <svg xmlns=\"http://www.w3.org/2000/svg\" height=\"24px\"viewBox=\"0 0 24 24\"\n",
              "       width=\"24px\">\n",
              "    <path d=\"M0 0h24v24H0V0z\" fill=\"none\"/>\n",
              "    <path d=\"M18.56 5.44l.94 2.06.94-2.06 2.06-.94-2.06-.94-.94-2.06-.94 2.06-2.06.94zm-11 1L8.5 8.5l.94-2.06 2.06-.94-2.06-.94L8.5 2.5l-.94 2.06-2.06.94zm10 10l.94 2.06.94-2.06 2.06-.94-2.06-.94-.94-2.06-.94 2.06-2.06.94z\"/><path d=\"M17.41 7.96l-1.37-1.37c-.4-.4-.92-.59-1.43-.59-.52 0-1.04.2-1.43.59L10.3 9.45l-7.72 7.72c-.78.78-.78 2.05 0 2.83L4 21.41c.39.39.9.59 1.41.59.51 0 1.02-.2 1.41-.59l7.78-7.78 2.81-2.81c.8-.78.8-2.07 0-2.86zM5.41 20L4 18.59l7.72-7.72 1.47 1.35L5.41 20z\"/>\n",
              "  </svg>\n",
              "      </button>\n",
              "      \n",
              "  <style>\n",
              "    .colab-df-container {\n",
              "      display:flex;\n",
              "      flex-wrap:wrap;\n",
              "      gap: 12px;\n",
              "    }\n",
              "\n",
              "    .colab-df-convert {\n",
              "      background-color: #E8F0FE;\n",
              "      border: none;\n",
              "      border-radius: 50%;\n",
              "      cursor: pointer;\n",
              "      display: none;\n",
              "      fill: #1967D2;\n",
              "      height: 32px;\n",
              "      padding: 0 0 0 0;\n",
              "      width: 32px;\n",
              "    }\n",
              "\n",
              "    .colab-df-convert:hover {\n",
              "      background-color: #E2EBFA;\n",
              "      box-shadow: 0px 1px 2px rgba(60, 64, 67, 0.3), 0px 1px 3px 1px rgba(60, 64, 67, 0.15);\n",
              "      fill: #174EA6;\n",
              "    }\n",
              "\n",
              "    [theme=dark] .colab-df-convert {\n",
              "      background-color: #3B4455;\n",
              "      fill: #D2E3FC;\n",
              "    }\n",
              "\n",
              "    [theme=dark] .colab-df-convert:hover {\n",
              "      background-color: #434B5C;\n",
              "      box-shadow: 0px 1px 3px 1px rgba(0, 0, 0, 0.15);\n",
              "      filter: drop-shadow(0px 1px 2px rgba(0, 0, 0, 0.3));\n",
              "      fill: #FFFFFF;\n",
              "    }\n",
              "  </style>\n",
              "\n",
              "      <script>\n",
              "        const buttonEl =\n",
              "          document.querySelector('#df-cc2089c7-dded-4140-a615-f0122bc32171 button.colab-df-convert');\n",
              "        buttonEl.style.display =\n",
              "          google.colab.kernel.accessAllowed ? 'block' : 'none';\n",
              "\n",
              "        async function convertToInteractive(key) {\n",
              "          const element = document.querySelector('#df-cc2089c7-dded-4140-a615-f0122bc32171');\n",
              "          const dataTable =\n",
              "            await google.colab.kernel.invokeFunction('convertToInteractive',\n",
              "                                                     [key], {});\n",
              "          if (!dataTable) return;\n",
              "\n",
              "          const docLinkHtml = 'Like what you see? Visit the ' +\n",
              "            '<a target=\"_blank\" href=https://colab.research.google.com/notebooks/data_table.ipynb>data table notebook</a>'\n",
              "            + ' to learn more about interactive tables.';\n",
              "          element.innerHTML = '';\n",
              "          dataTable['output_type'] = 'display_data';\n",
              "          await google.colab.output.renderOutput(dataTable, element);\n",
              "          const docLink = document.createElement('div');\n",
              "          docLink.innerHTML = docLinkHtml;\n",
              "          element.appendChild(docLink);\n",
              "        }\n",
              "      </script>\n",
              "    </div>\n",
              "  </div>\n",
              "  "
            ]
          },
          "metadata": {},
          "execution_count": 80
        }
      ]
    },
    {
      "cell_type": "code",
      "source": [
        "newdf.to_csv(\"Samsung Galaxy A12 Balanced.csv\")"
      ],
      "metadata": {
        "id": "K1UJCQyOGdb2"
      },
      "execution_count": 81,
      "outputs": []
    },
    {
      "cell_type": "code",
      "source": [
        "from google.colab import files\n",
        "files.download('Samsung Galaxy A12 Balanced.csv')"
      ],
      "metadata": {
        "colab": {
          "base_uri": "https://localhost:8080/",
          "height": 17
        },
        "id": "tFUdmoVzGtTy",
        "outputId": "63b73481-4284-4312-9c8e-93d10c0a0428"
      },
      "execution_count": 82,
      "outputs": [
        {
          "output_type": "display_data",
          "data": {
            "text/plain": [
              "<IPython.core.display.Javascript object>"
            ],
            "application/javascript": [
              "\n",
              "    async function download(id, filename, size) {\n",
              "      if (!google.colab.kernel.accessAllowed) {\n",
              "        return;\n",
              "      }\n",
              "      const div = document.createElement('div');\n",
              "      const label = document.createElement('label');\n",
              "      label.textContent = `Downloading \"${filename}\": `;\n",
              "      div.appendChild(label);\n",
              "      const progress = document.createElement('progress');\n",
              "      progress.max = size;\n",
              "      div.appendChild(progress);\n",
              "      document.body.appendChild(div);\n",
              "\n",
              "      const buffers = [];\n",
              "      let downloaded = 0;\n",
              "\n",
              "      const channel = await google.colab.kernel.comms.open(id);\n",
              "      // Send a message to notify the kernel that we're ready.\n",
              "      channel.send({})\n",
              "\n",
              "      for await (const message of channel.messages) {\n",
              "        // Send a message to notify the kernel that we're ready.\n",
              "        channel.send({})\n",
              "        if (message.buffers) {\n",
              "          for (const buffer of message.buffers) {\n",
              "            buffers.push(buffer);\n",
              "            downloaded += buffer.byteLength;\n",
              "            progress.value = downloaded;\n",
              "          }\n",
              "        }\n",
              "      }\n",
              "      const blob = new Blob(buffers, {type: 'application/binary'});\n",
              "      const a = document.createElement('a');\n",
              "      a.href = window.URL.createObjectURL(blob);\n",
              "      a.download = filename;\n",
              "      div.appendChild(a);\n",
              "      a.click();\n",
              "      div.remove();\n",
              "    }\n",
              "  "
            ]
          },
          "metadata": {}
        },
        {
          "output_type": "display_data",
          "data": {
            "text/plain": [
              "<IPython.core.display.Javascript object>"
            ],
            "application/javascript": [
              "download(\"download_0a0edf35-1eca-4706-acf1-948d861450c2\", \"Samsung Galaxy A12 Balanced.csv\", 77153)"
            ]
          },
          "metadata": {}
        }
      ]
    },
    {
      "cell_type": "code",
      "source": [],
      "metadata": {
        "id": "VNzlWVgLHnRz"
      },
      "execution_count": null,
      "outputs": []
    }
  ]
}